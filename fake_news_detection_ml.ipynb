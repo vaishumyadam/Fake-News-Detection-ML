{
 "cells": [
  {
   "cell_type": "code",
   "execution_count": 1,
   "metadata": {},
   "outputs": [],
   "source": [
    "## Vaishu Myadam (vmyadam1208@gmail.com)\n",
    "## June, 2020\n",
    "\n",
    "## Using Kaggle's fake news dataset to explore various models, find the most accurate one, and present results"
   ]
  },
  {
   "cell_type": "code",
   "execution_count": 15,
   "metadata": {},
   "outputs": [],
   "source": [
    "# Necessary imports\n",
    "\n",
    "import numpy as np\n",
    "import pandas as pd\n",
    "import matplotlib.pyplot as plt\n",
    "\n",
    "from sklearn.feature_extraction.text import CountVectorizer\n",
    "from sklearn.feature_extraction.text import TfidfTransformer\n",
    "from sklearn.ensemble import (RandomForestClassifier, ExtraTreesClassifier, AdaBoostClassifier)\n",
    "from sklearn.linear_model import LogisticRegression\n",
    "from sklearn.tree import DecisionTreeClassifier\n",
    "from sklearn.naive_bayes import MultinomialNB\n",
    "from sklearn.linear_model import PassiveAggressiveClassifier\n",
    "from sklearn.metrics import accuracy_score, confusion_matrix\n",
    "from sklearn.model_selection import train_test_split\n",
    "from sklearn.metrics import plot_confusion_matrix"
   ]
  },
  {
   "cell_type": "code",
   "execution_count": 43,
   "metadata": {},
   "outputs": [
    {
     "name": "stdout",
     "output_type": "stream",
     "text": [
      "<class 'pandas.core.frame.DataFrame'>\n",
      "RangeIndex: 20800 entries, 0 to 20799\n",
      "Data columns (total 5 columns):\n",
      "id        20800 non-null int64\n",
      "title     20242 non-null object\n",
      "author    18843 non-null object\n",
      "text      20761 non-null object\n",
      "label     20800 non-null int64\n",
      "dtypes: int64(2), object(3)\n",
      "memory usage: 812.6+ KB\n",
      "<class 'pandas.core.frame.DataFrame'>\n",
      "RangeIndex: 5200 entries, 0 to 5199\n",
      "Data columns (total 5 columns):\n",
      "id        5200 non-null int64\n",
      "title     5078 non-null object\n",
      "author    4697 non-null object\n",
      "text      5193 non-null object\n",
      "label     5200 non-null object\n",
      "dtypes: int64(1), object(4)\n",
      "memory usage: 203.2+ KB\n"
     ]
    },
    {
     "data": {
      "text/html": [
       "<div>\n",
       "<style scoped>\n",
       "    .dataframe tbody tr th:only-of-type {\n",
       "        vertical-align: middle;\n",
       "    }\n",
       "\n",
       "    .dataframe tbody tr th {\n",
       "        vertical-align: top;\n",
       "    }\n",
       "\n",
       "    .dataframe thead th {\n",
       "        text-align: right;\n",
       "    }\n",
       "</style>\n",
       "<table border=\"1\" class=\"dataframe\">\n",
       "  <thead>\n",
       "    <tr style=\"text-align: right;\">\n",
       "      <th></th>\n",
       "      <th>id</th>\n",
       "      <th>title</th>\n",
       "      <th>author</th>\n",
       "      <th>text</th>\n",
       "      <th>label</th>\n",
       "    </tr>\n",
       "  </thead>\n",
       "  <tbody>\n",
       "    <tr>\n",
       "      <td>0</td>\n",
       "      <td>20800</td>\n",
       "      <td>Specter of Trump Loosens Tongues, if Not Purse...</td>\n",
       "      <td>David Streitfeld</td>\n",
       "      <td>PALO ALTO, Calif.  —   After years of scorning...</td>\n",
       "      <td>Empty For Now</td>\n",
       "    </tr>\n",
       "    <tr>\n",
       "      <td>1</td>\n",
       "      <td>20801</td>\n",
       "      <td>Russian warships ready to strike terrorists ne...</td>\n",
       "      <td>NaN</td>\n",
       "      <td>Russian warships ready to strike terrorists ne...</td>\n",
       "      <td>Empty For Now</td>\n",
       "    </tr>\n",
       "    <tr>\n",
       "      <td>2</td>\n",
       "      <td>20802</td>\n",
       "      <td>#NoDAPL: Native American Leaders Vow to Stay A...</td>\n",
       "      <td>Common Dreams</td>\n",
       "      <td>Videos #NoDAPL: Native American Leaders Vow to...</td>\n",
       "      <td>Empty For Now</td>\n",
       "    </tr>\n",
       "    <tr>\n",
       "      <td>3</td>\n",
       "      <td>20803</td>\n",
       "      <td>Tim Tebow Will Attempt Another Comeback, This ...</td>\n",
       "      <td>Daniel Victor</td>\n",
       "      <td>If at first you don’t succeed, try a different...</td>\n",
       "      <td>Empty For Now</td>\n",
       "    </tr>\n",
       "    <tr>\n",
       "      <td>4</td>\n",
       "      <td>20804</td>\n",
       "      <td>Keiser Report: Meme Wars (E995)</td>\n",
       "      <td>Truth Broadcast Network</td>\n",
       "      <td>42 mins ago 1 Views 0 Comments 0 Likes 'For th...</td>\n",
       "      <td>Empty For Now</td>\n",
       "    </tr>\n",
       "  </tbody>\n",
       "</table>\n",
       "</div>"
      ],
      "text/plain": [
       "      id                                              title  \\\n",
       "0  20800  Specter of Trump Loosens Tongues, if Not Purse...   \n",
       "1  20801  Russian warships ready to strike terrorists ne...   \n",
       "2  20802  #NoDAPL: Native American Leaders Vow to Stay A...   \n",
       "3  20803  Tim Tebow Will Attempt Another Comeback, This ...   \n",
       "4  20804                    Keiser Report: Meme Wars (E995)   \n",
       "\n",
       "                    author                                               text  \\\n",
       "0         David Streitfeld  PALO ALTO, Calif.  —   After years of scorning...   \n",
       "1                      NaN  Russian warships ready to strike terrorists ne...   \n",
       "2            Common Dreams  Videos #NoDAPL: Native American Leaders Vow to...   \n",
       "3            Daniel Victor  If at first you don’t succeed, try a different...   \n",
       "4  Truth Broadcast Network  42 mins ago 1 Views 0 Comments 0 Likes 'For th...   \n",
       "\n",
       "           label  \n",
       "0  Empty For Now  \n",
       "1  Empty For Now  \n",
       "2  Empty For Now  \n",
       "3  Empty For Now  \n",
       "4  Empty For Now  "
      ]
     },
     "execution_count": 43,
     "metadata": {},
     "output_type": "execute_result"
    }
   ],
   "source": [
    "# Importing data\n",
    "\n",
    "# Key: 1 = fake, 0 = real\n",
    "train = pd.read_csv('fake-news/train.csv')\n",
    "test = pd.read_csv('fake-news/test.csv')\n",
    "test['label'] = 'Empty For Now'\n",
    "\n",
    "train.info()\n",
    "test.info()\n",
    "test.head()"
   ]
  },
  {
   "cell_type": "code",
   "execution_count": 47,
   "metadata": {},
   "outputs": [],
   "source": [
    "# Data preprocessing\n",
    "\n",
    "train = train.fillna(' ')\n",
    "train['combined'] = train['title'] + train['author'] + train['text']\n",
    "\n",
    "test = test.fillna(' ')\n",
    "test['combined'] = test['title'] + test['author'] + test['text'] \n",
    "\n",
    "tfidf_transformer = TfidfTransformer(smooth_idf = False)\n",
    "count_vectorizer = CountVectorizer(ngram_range = (1, 2))\n",
    "counts = count_vectorizer.fit_transform(train['combined'].values)\n",
    "tfidf = tfidf_transformer.fit_transform(counts)\n",
    "training_labels = train['label'].values\n",
    "\n",
    "X_train, X_test, y_train, y_test = train_test_split(tfidf, training_labels, random_state = 0)"
   ]
  },
  {
   "cell_type": "code",
   "execution_count": null,
   "metadata": {},
   "outputs": [],
   "source": [
    "# Fitting models\n",
    "\n",
    "ada_boost_clf = AdaBoostClassifier(DecisionTreeClassifier(max_depth = 3), n_estimators = 5)\n",
    "ada_boost_clf.fit(X_train, y_train)\n",
    "\n",
    "extra_trees_clf = ExtraTreesClassifier(n_estimators=5,n_jobs=4)\n",
    "extra_trees_clf.fit(X_train, y_train)\n",
    "\n",
    "logreg_clf = LogisticRegression(C = 1e5)\n",
    "logreg_clf.fit(X_train, y_train)\n",
    "\n",
    "naivebayes_clf = MultinomialNB()\n",
    "naivebayes_clf.fit(X_train, y_train)\n",
    "\n",
    "pac = PassiveAggressiveClassifier(max_iter = 50)\n",
    "pac.fit(X_train,y_train)\n",
    "\n",
    "random_forest_clf = RandomForestClassifier(n_estimators = 5)\n",
    "random_forest_clf.fit(X_train, y_train)"
   ]
  },
  {
   "cell_type": "code",
   "execution_count": 66,
   "metadata": {},
   "outputs": [
    {
     "name": "stdout",
     "output_type": "stream",
     "text": [
      "\n",
      "Adaboost classifier's training set accuracy = 0.933\n",
      "Adaboost classifier's testing set accuracy = 0.929\n",
      "\n",
      "ExtraTrees classifier's training set accuracy = 1.000\n",
      "ExtraTrees classifier's testing set accuracy = 0.841\n",
      "\n",
      "Logistic regression's training set accuracy = 1.000\n",
      "Logistic regression's testing set accuracy = 0.974\n",
      "\n",
      "Naive bayes classifier's training set accuracy = 0.874\n",
      "Naive bayes classifier on testing set accuracy = 0.779\n",
      "\n",
      "Passive aggressive classifier's training set accuracy = 1.000\n",
      "Passive aggressive classifier's on testing set accuracy = 0.977\n",
      "\n",
      "Randomforest classifier's training set accuracy = 0.983\n",
      "Randomforest classifier's testing set accuracy = 0.809\n"
     ]
    }
   ],
   "source": [
    "# Printing accuracies of models\n",
    "\n",
    "print('\\nAdaboost classifier\\'s training set accuracy = {:.3f}'.format(ada_boost_clf.score(X_train, y_train)))\n",
    "print('Adaboost classifier\\'s testing set accuracy = {:.3f}'.format(ada_boost_clf.score(X_test, y_test)))\n",
    "\n",
    "print('\\nExtraTrees classifier\\'s training set accuracy = {:.3f}'.format(extra_trees_clf.score(X_train, y_train)))\n",
    "print('ExtraTrees classifier\\'s testing set accuracy = {:.3f}'.format(extra_trees_clf.score(X_test, y_test)))\n",
    "\n",
    "print('\\nLogistic regression\\'s training set accuracy = {:.3f}'.format(logreg_clf.score(X_train, y_train)))\n",
    "print('Logistic regression\\'s testing set accuracy = {:.3f}'.format(logreg_clf.score(X_test, y_test)))\n",
    "\n",
    "print('\\nNaive bayes classifier\\'s training set accuracy = {:.3f}'.format(naivebayes_clf.score(X_train, y_train)))\n",
    "print('Naive bayes classifier on testing set accuracy = {:.3f}'.format(naivebayes_clf.score(X_test, y_test)))\n",
    "\n",
    "print('\\nPassive aggressive classifier\\'s training set accuracy = {:.3f}'.format(pac.score(X_train, y_train)))\n",
    "print('Passive aggressive classifier\\'s on testing set accuracy = {:.3f}'.format(pac.score(X_test, y_test)))\n",
    "\n",
    "print('\\nRandomforest classifier\\'s training set accuracy = {:.3f}'.format(random_forest_clf.score(X_train, y_train)))\n",
    "print('Randomforest classifier\\'s testing set accuracy = {:.3f}'.format(random_forest_clf.score(X_test, y_test)))"
   ]
  },
  {
   "cell_type": "code",
   "execution_count": 62,
   "metadata": {},
   "outputs": [
    {
     "name": "stdout",
     "output_type": "stream",
     "text": [
      "[[ 715  104]\n",
      " [2146 2235]]\n"
     ]
    },
    {
     "data": {
      "image/png": "[encoded data removed]",
      "text/plain": [
       "<Figure size 432x288 with 2 Axes>"
      ]
     },
     "metadata": {
      "needs_background": "light"
     },
     "output_type": "display_data"
    }
   ],
   "source": [
    "# Final model and predictions: Passive aggressive classifier\n",
    "\n",
    "test_combined = count_vectorizer.transform(test['combined'].values)\n",
    "predictions = pac.predict(test_combined)\n",
    "submit = pd.read_csv(\"fake-news/submit.csv\")\n",
    "y_submit = submit['label']\n",
    "\n",
    "print(confusion_matrix(predictions, y_submit, labels = [1, 0]))\n",
    "plot_confusion_matrix(pac, X_test, y_test)\n",
    "\n",
    "pac_result = pd.DataFrame(predictions,columns = ['label'])\n",
    "pac_result['id'] = test['id']\n",
    "pac_result.groupby('label').count()\n",
    "pac_result.to_csv('pac_result.csv', index = False)"
   ]
  }
 ],
 "metadata": {
  "kernelspec": {
   "display_name": "Python 3",
   "language": "python",
   "name": "python3"
  },
  "language_info": {
   "codemirror_mode": {
    "name": "ipython",
    "version": 3
   },
   "file_extension": ".py",
   "mimetype": "text/x-python",
   "name": "python",
   "nbconvert_exporter": "python",
   "pygments_lexer": "ipython3",
   "version": "3.7.4"
  }
 },
 "nbformat": 4,
 "nbformat_minor": 2
}
